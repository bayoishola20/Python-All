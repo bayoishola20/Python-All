{
 "cells": [
  {
   "cell_type": "code",
   "execution_count": 96,
   "metadata": {},
   "outputs": [
    {
     "name": "stdout",
     "output_type": "stream",
     "text": [
      "There are 25 prime numbers in integers up to 99\n",
      "{2: 'p', 3: 'p', 5: 'p', 7: 'p', 11: 'p', 13: 'p', 17: 'p', 19: 'p', 23: 'p', 29: 'p', 31: 'p', 37: 'p', 41: 'p', 43: 'p', 47: 'p', 53: 'p', 59: 'p', 61: 'p', 67: 'p', 71: 'p', 73: 'p', 79: 'p', 83: 'p', 89: 'p', 97: 'p'}\n",
      "\n",
      "\n",
      "{0: 'n', 1: 'n', 2: 'p', 3: 'p', 4: 'n', 5: 'p', 6: 'n', 7: 'p', 8: 'n', 9: 'n', 10: 'n', 11: 'p', 12: 'n', 13: 'p', 14: 'n', 15: 'n', 16: 'n', 17: 'p', 18: 'n', 19: 'p', 20: 'n', 21: 'n', 22: 'n', 23: 'p', 24: 'n', 25: 'n', 26: 'n', 27: 'n', 28: 'n', 29: 'p', 30: 'n', 31: 'p', 32: 'n', 33: 'n', 34: 'n', 35: 'n', 36: 'n', 37: 'p', 38: 'n', 39: 'n', 40: 'n', 41: 'p', 42: 'n', 43: 'p', 44: 'n', 45: 'n', 46: 'n', 47: 'p', 48: 'n', 49: 'n', 50: 'n', 51: 'n', 52: 'n', 53: 'p', 54: 'n', 55: 'n', 56: 'n', 57: 'n', 58: 'n', 59: 'p', 60: 'n', 61: 'p', 62: 'n', 63: 'n', 64: 'n', 65: 'n', 66: 'n', 67: 'p', 68: 'n', 69: 'n', 70: 'n', 71: 'p', 72: 'n', 73: 'p', 74: 'n', 75: 'n', 76: 'n', 77: 'n', 78: 'n', 79: 'p', 80: 'n', 81: 'n', 82: 'n', 83: 'p', 84: 'n', 85: 'n', 86: 'n', 87: 'n', 88: 'n', 89: 'p', 90: 'n', 91: 'n', 92: 'n', 93: 'n', 94: 'n', 95: 'n', 96: 'n', 97: 'p', 98: 'n', 99: 'n'}\n"
     ]
    }
   ],
   "source": [
    "'''\n",
    "    Find prime number\n",
    "'''\n",
    "\n",
    "nmax = 100; #set maximum number search\n",
    "pn = {2:'p'} # define prime number dictionary starting key value 2\n",
    "\n",
    "for n in range(3, nmax, 2): # set range starting from 3 at steps of 2\n",
    "    pn.update({n:'p'}) # update dictionary\n",
    "    divs = [i for i in dict.keys(pn) if i <= n**0.5] #list comprehension: returns an array\n",
    "    # of integers in the dictionary key which are not squares of one of the numbers in the range \n",
    "\n",
    "   \n",
    "    for div in divs:\n",
    "        #check if one of any number in the range is exactly divisible by the divisors and deletes\n",
    "        if (n % div) == 0:\n",
    "            del pn[n]\n",
    "            break\n",
    "\n",
    "print(\"There are %i prime numbers in integers up to %d\" %(len(pn), nmax -1) )\n",
    "\n",
    "sorted(pn)\n",
    "\n",
    "print(dict(pn))\n",
    "\n",
    "# for k in sorted(pn):\n",
    "#     print(\"%i: %s\" % (k, pn[k]))\n",
    "\n",
    "\n",
    "print(\"\\n\")\n",
    "\n",
    "\n",
    "# ALL NUMBERS\n",
    "newdict = dict() # new dictionary variable\n",
    "\n",
    "# using pn as reference dict, select non-prime\n",
    "nonPrime = [ i for i in range(0, nmax) if i not in list(pn.keys()) ]\n",
    "\n",
    "#\n",
    "for i in nonPrime:\n",
    "    newdict.update( {i:'n'} )\n",
    "    newdict.update(pn)\n",
    "\n",
    "print(dict(sorted(newdict.items())))\n"
   ]
  },
  {
   "cell_type": "code",
   "execution_count": 62,
   "metadata": {},
   "outputs": [
    {
     "ename": "SyntaxError",
     "evalue": "unexpected EOF while parsing (<ipython-input-62-6b30a34eccdd>, line 7)",
     "output_type": "error",
     "traceback": [
      "\u001b[1;36m  File \u001b[1;32m\"<ipython-input-62-6b30a34eccdd>\"\u001b[1;36m, line \u001b[1;32m7\u001b[0m\n\u001b[1;33m    #         print(i)\u001b[0m\n\u001b[1;37m                      ^\u001b[0m\n\u001b[1;31mSyntaxError\u001b[0m\u001b[1;31m:\u001b[0m unexpected EOF while parsing\n"
     ]
    }
   ],
   "source": [
    "# prime number\n",
    "\n",
    "nmax = 100\n",
    "\n",
    "for i in range(2, nmax):\n",
    "    if i % 1 == 0 or i % i == 0:\n",
    "        print(i)"
   ]
  },
  {
   "cell_type": "code",
   "execution_count": 25,
   "metadata": {},
   "outputs": [
    {
     "data": {
      "text/plain": [
       "[2, 3, 9]"
      ]
     },
     "execution_count": 25,
     "metadata": {},
     "output_type": "execute_result"
    }
   ],
   "source": [
    "'''\n",
    "    Method 1 - Find positions of characters\n",
    "'''\n",
    "stng = \"bloody programming\"\n",
    "\n",
    "def findAll(stng, ch):\n",
    "        return [i for i, letter in enumerate(stng) if letter == ch]\n",
    "\n",
    "findAll(stng, 'o')"
   ]
  },
  {
   "cell_type": "code",
   "execution_count": 3,
   "metadata": {},
   "outputs": [
    {
     "data": {
      "text/plain": [
       "[2, 3, 9]"
      ]
     },
     "execution_count": 3,
     "metadata": {},
     "output_type": "execute_result"
    }
   ],
   "source": [
    "'''\n",
    "    Method 2 - Find positions of characters\n",
    "'''\n",
    "stng = \"bloody programming\"\n",
    "pos = []\n",
    "\n",
    "def findAll(stng, ch):\n",
    "    for i, letter in enumerate(stng):\n",
    "        if letter == ch:\n",
    "            pos.append(i)\n",
    "    return pos\n",
    "findAll(stng, 'o')"
   ]
  },
  {
   "cell_type": "code",
   "execution_count": 32,
   "metadata": {},
   "outputs": [
    {
     "name": "stdout",
     "output_type": "stream",
     "text": [
      "[2, 16, 22, 23, 41, 49]\n"
     ]
    }
   ],
   "source": [
    "import random\n",
    "numbers = list(range(1,50)) # in python 3, wrapping this in a list is necessary\n",
    "random.shuffle(numbers)\n",
    "print(sorted(numbers[:6]))"
   ]
  },
  {
   "cell_type": "code",
   "execution_count": 37,
   "metadata": {},
   "outputs": [
    {
     "name": "stdout",
     "output_type": "stream",
     "text": [
      "2\n"
     ]
    }
   ],
   "source": [
    "stng = \"bloody programming\"\n",
    "match = stng[0:].find('o')\n",
    "print(match)"
   ]
  },
  {
   "cell_type": "code",
   "execution_count": 50,
   "metadata": {},
   "outputs": [
    {
     "name": "stdout",
     "output_type": "stream",
     "text": [
      "[1, '-', 2, 5, 2, '-', '-', 6]\n"
     ]
    }
   ],
   "source": [
    "lst = [1, 3, 2, 5, 2, 3, 3, 6]\n",
    "\n",
    "lst = [l if l!=3 else \"-\" for l in lst] # change all occurrence of 3 to \"-\"\n",
    "\n",
    "print(lst)"
   ]
  },
  {
   "cell_type": "code",
   "execution_count": 51,
   "metadata": {},
   "outputs": [
    {
     "name": "stdout",
     "output_type": "stream",
     "text": [
      "[[1, 2, '-'], ['-', 4, 5], ['-', '-']]\n"
     ]
    }
   ],
   "source": [
    "lst = [ [1,2,3], [3,4,5], [3,3] ]\n",
    "\n",
    "lst = [ [l if l!=3 else '-' for l in ilst] for ilst in lst]\n",
    "print(lst)"
   ]
  },
  {
   "cell_type": "code",
   "execution_count": 124,
   "metadata": {},
   "outputs": [
    {
     "name": "stdout",
     "output_type": "stream",
     "text": [
      "[[1, 2, '-'], ['-', 4, 5], ['-', '-']]\n"
     ]
    }
   ],
   "source": [
    "lst = [ [1,2,3], [3,4,5], [3,3] ]\n",
    "\n",
    "\n",
    "first = []\n",
    "\n",
    "for ilst in lst:\n",
    "    ans = []\n",
    "    for l in ilst:\n",
    "        if l != 3:\n",
    "            ans.append(l)\n",
    "        else:\n",
    "            ans.append('-')\n",
    "    first.append(ans)\n",
    "print(first)"
   ]
  },
  {
   "cell_type": "code",
   "execution_count": 69,
   "metadata": {},
   "outputs": [
    {
     "name": "stdout",
     "output_type": "stream",
     "text": [
      "Type text to be displayed: Adebayo\n",
      "*************.\".**************\n",
      "**********.\"..\"..\".***********\n",
      "*******.\"..\"..\"..\"..\".********\n",
      "****.\"..\"..\"..\"..\"..\"..\".*****\n",
      "*.\"..\"..\"..\"..\"..\"..\"..\"..\".**\n",
      "-----------Adebayo------------\n",
      "***.\"..\"..\"..\"..\"..\"..\"..\".***\n",
      "******.\"..\"..\"..\"..\"..\".******\n",
      "*********.\"..\"..\"..\".*********\n",
      "************.\"..\".************\n",
      "******************************\n"
     ]
    }
   ],
   "source": [
    "N, M = 10,30\n",
    "X = input(\"Type text to be displayed: \")\n",
    "\n",
    "for i in range(1, N, 2): \n",
    "    print( ('.\".' * i).center(M, '*') )\n",
    "\n",
    "print (X.center(M, '-'))\n",
    "\n",
    "for i in range(N-2, -1, -2): \n",
    "    print( ('.\".'*i).center(M, '*') )"
   ]
  },
  {
   "cell_type": "code",
   "execution_count": 3,
   "metadata": {},
   "outputs": [
    {
     "name": "stdout",
     "output_type": "stream",
     "text": [
      "[(0, 'one'), (1, 'twenty'), (2, 'three'), (3, 'four'), (4, 'five')]\n"
     ]
    }
   ],
   "source": [
    "w = [\"one\", \"twenty\", \"three\", \"four\", \"five\"]\n",
    "\n",
    "print(list(enumerate(w)))"
   ]
  },
  {
   "cell_type": "code",
   "execution_count": 6,
   "metadata": {},
   "outputs": [
    {
     "name": "stdout",
     "output_type": "stream",
     "text": [
      "amaM yM\n"
     ]
    }
   ],
   "source": [
    "s = \"My Mama\"\n",
    "\n",
    "print(s[::-1]) # string reversal"
   ]
  },
  {
   "cell_type": "code",
   "execution_count": 7,
   "metadata": {},
   "outputs": [
    {
     "name": "stdout",
     "output_type": "stream",
     "text": [
      "[4, 3, 2, 1]\n"
     ]
    }
   ],
   "source": [
    "a = [1, 2, 3, 4]\n",
    "\n",
    "print(a[::-1]) # integer array reversal"
   ]
  },
  {
   "cell_type": "code",
   "execution_count": 8,
   "metadata": {},
   "outputs": [
    {
     "name": "stdout",
     "output_type": "stream",
     "text": [
      "['five', 'four', 'three', 'twenty', 'one']\n"
     ]
    }
   ],
   "source": [
    "w = [\"one\", \"twenty\", \"three\", \"four\", \"five\"]\n",
    "\n",
    "print(w[::-1]) # string array reversal"
   ]
  },
  {
   "cell_type": "code",
   "execution_count": 10,
   "metadata": {},
   "outputs": [
    {
     "name": "stdout",
     "output_type": "stream",
     "text": [
      "this is me\n"
     ]
    }
   ],
   "source": [
    "v = [\"me\", \"is\", \"this\"]\n",
    "\n",
    "print(' '.join(v[::-1]) + 1)"
   ]
  },
  {
   "cell_type": "code",
   "execution_count": 26,
   "metadata": {},
   "outputs": [
    {
     "name": "stdout",
     "output_type": "stream",
     "text": [
      " H\t e\t y\t  \t y\t o\t u\t !\t\n",
      "\n",
      "72\t101\t121\t32\t121\t111\t117\t33\t"
     ]
    }
   ],
   "source": [
    "[print('', x, end='\\t') for x in \"Hey you!\"];  # not ending with the semi-colon would print an array of None\n",
    "\n",
    "print(\"\\n\")\n",
    "\n",
    "[print(ord(x), end='\\t') for x in \"Hey you!\"]; # not ending with the semi-colon would print an array of None. ord() returns unicode od the character"
   ]
  },
  {
   "cell_type": "code",
   "execution_count": 32,
   "metadata": {},
   "outputs": [
    {
     "name": "stdout",
     "output_type": "stream",
     "text": [
      "65\n"
     ]
    }
   ],
   "source": [
    "print(ord('A'))"
   ]
  },
  {
   "cell_type": "code",
   "execution_count": 45,
   "metadata": {},
   "outputs": [
    {
     "name": "stdout",
     "output_type": "stream",
     "text": [
      "[21, 39, 40, 117]\n"
     ]
    }
   ],
   "source": [
    "a = [117, 21, 39, 40]\n",
    "\n",
    "print(sorted(a, key = lambda x : x ** 2))"
   ]
  },
  {
   "cell_type": "code",
   "execution_count": 48,
   "metadata": {},
   "outputs": [
    {
     "name": "stdout",
     "output_type": "stream",
     "text": [
      "36\n"
     ]
    }
   ],
   "source": [
    "w = lambda y : y * 3\n",
    "\n",
    "print(w(12))"
   ]
  },
  {
   "cell_type": "code",
   "execution_count": 55,
   "metadata": {},
   "outputs": [
    {
     "name": "stdout",
     "output_type": "stream",
     "text": [
      "[4, 10, 18]\n"
     ]
    }
   ],
   "source": [
    "print(list(map(lambda x, y : x * y, [1, 2, 3], [4, 5, 6])))"
   ]
  },
  {
   "cell_type": "code",
   "execution_count": 61,
   "metadata": {},
   "outputs": [
    {
     "name": "stdout",
     "output_type": "stream",
     "text": [
      "['John Doe', 'Hello World']\n"
     ]
    }
   ],
   "source": [
    "names = [ ' '.join(x) for x in zip( [\"John\", \"Hello\"], [\"Doe\", \"World\"] ) ]\n",
    "print(names)"
   ]
  },
  {
   "cell_type": "code",
   "execution_count": 66,
   "metadata": {},
   "outputs": [
    {
     "name": "stdout",
     "output_type": "stream",
     "text": [
      "[(0, 1), (1, 2), (2, 3), (3, 4)]\n"
     ]
    }
   ],
   "source": [
    "x = enumerate([1,2,3,4], 0)\n",
    "print(list(x))"
   ]
  },
  {
   "cell_type": "code",
   "execution_count": 71,
   "metadata": {},
   "outputs": [
    {
     "name": "stdout",
     "output_type": "stream",
     "text": [
      "1 \n",
      "\n",
      "3.3333333333333335 \n",
      "\n",
      "3 \n",
      "\n"
     ]
    }
   ],
   "source": [
    "print(10%3, \"\\n\") # modulo\n",
    "print(10/3, \"\\n\") # divide\n",
    "print(10//3, \"\\n\") # floor division"
   ]
  },
  {
   "cell_type": "code",
   "execution_count": 74,
   "metadata": {},
   "outputs": [
    {
     "name": "stdout",
     "output_type": "stream",
     "text": [
      "4 \n",
      "\n",
      "3 \n",
      "\n"
     ]
    }
   ],
   "source": [
    "import math\n",
    "print(math.ceil(10/3), \"\\n\") # round upwards\n",
    "print(math.floor(10/3), \"\\n\") # round downwards"
   ]
  },
  {
   "cell_type": "code",
   "execution_count": 87,
   "metadata": {
    "scrolled": true
   },
   "outputs": [
    {
     "name": "stdout",
     "output_type": "stream",
     "text": [
      "[1, 12, 35, 4, 5, 62, 70, 8]\n",
      "[12, 35, 4, 5, 62, 70, 8]\n",
      "[12, 35, 5, 62, 70, 8]\n",
      "0\n",
      "0\n"
     ]
    }
   ],
   "source": [
    "lst = [1,12,35,4]\n",
    "\n",
    "lst.extend([5,62,70,8])\n",
    "print(lst)\n",
    "\n",
    "lst.remove(1) #removes a particular value\n",
    "print(lst)\n",
    "\n",
    "del lst[2] # removes by index\n",
    "print(lst)\n",
    "\n",
    "print(lst.index(12)) # print index/position of value\n",
    "\n",
    "print(lst.count(2)) # prints occurence of value"
   ]
  },
  {
   "cell_type": "code",
   "execution_count": 154,
   "metadata": {
    "scrolled": true
   },
   "outputs": [
    {
     "name": "stdout",
     "output_type": "stream",
     "text": [
      "['0', '1', '2', '3', '-1', '4', '7', '6', '5', '-1', '0', '4', '5', '1', '-1']\n",
      "['0', '1', '2', '3', '-1', '4', '7', '6', '5', '-1', '0', '4', '5', '1']\n",
      "['1', '2', '3', '-1', '4', '7', '6', '5', '-1', '0', '4', '5', '1']\n"
     ]
    }
   ],
   "source": [
    "# break up list\n",
    "\n",
    "orig = '0 1 2 3 -1 4 7 6 5 -1 0 4 5 1 -1'\n",
    "\n",
    "ans = orig.split(\" \") # need to assign this to a variable before printing else won't print in a list\n",
    "\n",
    "print(ans)\n",
    "\n",
    "ans.pop() #removes last element\n",
    "\n",
    "print(ans)\n",
    "\n",
    "ans.pop(0) #removes first element\n",
    "\n",
    "print(ans)"
   ]
  },
  {
   "cell_type": "code",
   "execution_count": 163,
   "metadata": {},
   "outputs": [
    {
     "name": "stdout",
     "output_type": "stream",
     "text": [
      "cat\n",
      "dog\n",
      "parrot\n",
      "dict_keys(['cat', 'dog', 'parrot'])\n",
      "dict_values(['Katze', 'Hund', 'Papagei'])\n",
      "Katze\n"
     ]
    }
   ],
   "source": [
    "EngDe = {\"cat\": \"Katze\", \"dog\": \"Hund\", \"parrot\": \"Papagei\"}\n",
    "for i in EngDe:\n",
    "    print(i)\n",
    "print(EngDe.keys()) # print all keys\n",
    "print(EngDe.values()) # print all values\n",
    "print(EngDe[\"cat\"]) # print value of a key"
   ]
  },
  {
   "cell_type": "code",
   "execution_count": 167,
   "metadata": {},
   "outputs": [
    {
     "name": "stdout",
     "output_type": "stream",
     "text": [
      "{1, 35, 12, 4}\n",
      "{1, 2, 35, 4, 12}\n",
      "{1, 35, 4, 12}\n",
      "set()\n"
     ]
    }
   ],
   "source": [
    "# SETS: Contain unique items, unordered, not indexed and not slicable\n",
    "\n",
    "set1 = set([1,12,35,4])\n",
    "\n",
    "print(set1)\n",
    "\n",
    "set1.add(2) # adds a new set item\n",
    "\n",
    "print(set1)\n",
    "\n",
    "set1.discard(2) # removes item value\n",
    "\n",
    "print(set1)\n",
    "\n",
    "set1.clear() # clears content but keeps object\n",
    "\n",
    "print(set1)"
   ]
  },
  {
   "cell_type": "code",
   "execution_count": 8,
   "metadata": {},
   "outputs": [
    {
     "data": {
      "text/plain": [
       "19"
      ]
     },
     "execution_count": 8,
     "metadata": {},
     "output_type": "execute_result"
    }
   ],
   "source": [
    "# SEQUENCE - This is not a data type but a class of data types supporting identical operations\n",
    "\n",
    "sequence = [2, 3, 7, 19, 0, 2]\n",
    "\n",
    "2 in sequence\n",
    "\n",
    "\"a\" not in sequence\n",
    "\n",
    "sequence[:4]\n",
    "\n",
    "sequence[::-1] # reverse\n",
    "\n",
    "4 not in range(10, 7, 3)\n",
    "\n",
    "len(sequence)\n",
    "\n",
    "min(sequence)\n",
    "\n",
    "max(sequence)"
   ]
  },
  {
   "cell_type": "code",
   "execution_count": 20,
   "metadata": {},
   "outputs": [
    {
     "name": "stdout",
     "output_type": "stream",
     "text": [
      "Gradient for 0 in percent: 10.0\n",
      "Gradient for 1 in percent: 13.5\n",
      "Gradient for 2 in percent: 4.8\n",
      "Gradient for 3 in percent: 32.8\n"
     ]
    }
   ],
   "source": [
    "dxy = [20.0,17.0,21.0,25] # xy distance\n",
    "\n",
    "dz = [2.0,2.3,1.0,8.2] # z distance\n",
    "\n",
    "grad = map (lambda x,y: 100 * y/x, dxy,dz)\n",
    "\n",
    "#print(list(grad))\n",
    "\n",
    "for i, j in enumerate(grad):\n",
    "    print(\"Gradient for %i in percent: %4.1f\" %(i,j)) #  4.1f taking up 4 columns, and with a digit after the decimal point"
   ]
  },
  {
   "cell_type": "code",
   "execution_count": 287,
   "metadata": {},
   "outputs": [
    {
     "data": {
      "text/plain": [
       "[[0, 1, 2, 3], [4, 2, 6, 5]]"
      ]
     },
     "execution_count": 287,
     "metadata": {},
     "output_type": "execute_result"
    }
   ],
   "source": [
    "orig2list = ['0','1','2','3','9','4','2','6','5','9']\n",
    "\n",
    "# transform a flat list into a nested list\n",
    "\n",
    "def cutter(inlist, outlist, sep):\n",
    "    buff = []\n",
    "    while(inlist):\n",
    "        i = inlist.pop(0)\n",
    "        if i != sep:\n",
    "            buff.append(int(i))\n",
    "        else:\n",
    "            outlist.append(buff)\n",
    "            buff = []\n",
    "    \n",
    "    return outlist\n",
    "\n",
    "cutter(orig2list, [], '9')"
   ]
  },
  {
   "cell_type": "code",
   "execution_count": 305,
   "metadata": {},
   "outputs": [
    {
     "data": {
      "text/plain": [
       "[['0', '1'], ['3', '9', '4'], ['1', '5', '9']]"
      ]
     },
     "execution_count": 305,
     "metadata": {},
     "output_type": "execute_result"
    }
   ],
   "source": [
    "# transform a flat list into a nested list\n",
    "\n",
    "orig2list = ['0','1','2','3','9','4','2','1','5','9']\n",
    "\n",
    "def nest(inlist, outlist, sep):\n",
    "    ans = []\n",
    "    for i in inlist:\n",
    "        if i != sep:\n",
    "            ans.append(i)\n",
    "        else:\n",
    "            outlist.append(ans)\n",
    "            ans = []\n",
    "            \n",
    "    if sep != inlist[-1]:\n",
    "        outlist.append(ans)\n",
    "\n",
    "    return outlist\n",
    "nest(orig2list, [], '2')"
   ]
  },
  {
   "cell_type": "code",
   "execution_count": 246,
   "metadata": {},
   "outputs": [
    {
     "name": "stdout",
     "output_type": "stream",
     "text": [
      "[['0', '1', '2'], ['1', '2', '3'], ['2', '3', '9'], ['3', '9', '4'], ['9', '4', '2'], ['4', '2', '6'], ['2', '6', '5'], ['6', '5', '9']]\n"
     ]
    }
   ],
   "source": [
    "orig2list = ['0','1','2','3','9','4','2','6','5','9']\n",
    "\n",
    "nested = []\n",
    "\n",
    "for i in range( len(orig2list) - 2):\n",
    "    nested.append( orig2list[i:i + 3] )\n",
    "print(nested)"
   ]
  },
  {
   "cell_type": "code",
   "execution_count": 308,
   "metadata": {},
   "outputs": [
    {
     "name": "stdout",
     "output_type": "stream",
     "text": [
      "[2, 5, 9] [2, 5, 4, 9]\n"
     ]
    }
   ],
   "source": [
    "# deep copy\n",
    "import copy\n",
    "\n",
    "x = [2, 5, 4, 9]\n",
    "y = copy.deepcopy(x)\n",
    "y.remove(4)\n",
    "\n",
    "print(y, x)"
   ]
  },
  {
   "cell_type": "code",
   "execution_count": 309,
   "metadata": {},
   "outputs": [
    {
     "name": "stdout",
     "output_type": "stream",
     "text": [
      "[2, 5, 9] [2, 5, 9]\n"
     ]
    }
   ],
   "source": [
    "# no deep copy\n",
    "\n",
    "x = [2, 5, 4, 9]\n",
    "y = x\n",
    "y.remove(4)\n",
    "\n",
    "print(y, x)"
   ]
  },
  {
   "cell_type": "code",
   "execution_count": 310,
   "metadata": {},
   "outputs": [
    {
     "name": "stdout",
     "output_type": "stream",
     "text": [
      "[2, 5, 9] [2, 5, 4, 9]\n"
     ]
    }
   ],
   "source": [
    "x = [2, 5, 4, 9]\n",
    "y = x[:]\n",
    "y.remove(4)\n",
    "\n",
    "print(y, x)"
   ]
  },
  {
   "cell_type": "code",
   "execution_count": 2,
   "metadata": {},
   "outputs": [
    {
     "name": "stdout",
     "output_type": "stream",
     "text": [
      "same id\n"
     ]
    }
   ],
   "source": [
    "a = 40\n",
    "b = 20\n",
    "\n",
    "if ( id(a) == id(b) ): # id returns an object pointer that can be used for testing. Tests for identical objects.\n",
    "    print(\"same id\")\n",
    "else:\n",
    "    print(\"non identical\")"
   ]
  },
  {
   "cell_type": "code",
   "execution_count": 4,
   "metadata": {},
   "outputs": [
    {
     "name": "stdout",
     "output_type": "stream",
     "text": [
      "non identical\n"
     ]
    }
   ],
   "source": [
    "a = 40\n",
    "b = 40.1\n",
    "\n",
    "if ( a is b ): # is - used to test identical objects\n",
    "    print(\"same\")\n",
    "else:\n",
    "    print(\"non identical\")"
   ]
  },
  {
   "cell_type": "code",
   "execution_count": 8,
   "metadata": {},
   "outputs": [
    {
     "name": "stdout",
     "output_type": "stream",
     "text": [
      "[0, 1, 3, 5]\n"
     ]
    }
   ],
   "source": [
    "origLst = [0,1,2,3,4,5]\n",
    "\n",
    "delIndices = [2,3]\n",
    "\n",
    "for i in delIndices:\n",
    "    del origLst[i]\n",
    "print(origLst)"
   ]
  },
  {
   "cell_type": "code",
   "execution_count": 5,
   "metadata": {},
   "outputs": [
    {
     "data": {
      "text/plain": [
       "[0, 1, 4, 5]"
      ]
     },
     "execution_count": 5,
     "metadata": {},
     "output_type": "execute_result"
    }
   ],
   "source": [
    "origLst = [0,1,2,3,4,5]\n",
    "\n",
    "delIndices = [2,3]\n",
    "\n",
    "[j for i,j in enumerate(origLst) if i not in delIndices]"
   ]
  },
  {
   "cell_type": "code",
   "execution_count": 23,
   "metadata": {},
   "outputs": [
    {
     "name": "stdout",
     "output_type": "stream",
     "text": [
      "[0, 1, 4, 5]\n"
     ]
    }
   ],
   "source": [
    "origLst = [0,1,2,3,4,5]\n",
    "\n",
    "delIndices = [2,3]\n",
    "\n",
    "delValues = [origLst[i] for i in delIndices]\n",
    "\n",
    "for i in delValues:\n",
    "    origLst.remove(i)\n",
    "\n",
    "\n",
    "print(origLst)"
   ]
  },
  {
   "cell_type": "code",
   "execution_count": 1,
   "metadata": {},
   "outputs": [
    {
     "data": {
      "text/plain": [
       "[5, 4, 3, 4, 3, 6, 8]"
      ]
     },
     "execution_count": 1,
     "metadata": {},
     "output_type": "execute_result"
    }
   ],
   "source": [
    "# remove all members with a specific value from the list\n",
    "\n",
    "origLst = [5,4,3,4,2,3,6,8,2]\n",
    "\n",
    "[i for i in origLst if i != 2]"
   ]
  },
  {
   "cell_type": "code",
   "execution_count": 3,
   "metadata": {},
   "outputs": [
    {
     "data": {
      "text/plain": [
       "[0, 5]"
      ]
     },
     "execution_count": 3,
     "metadata": {},
     "output_type": "execute_result"
    }
   ],
   "source": [
    "# retrieve indices of a given value\n",
    "\n",
    "origLst = [4,3,2,1,5,4,3,2,2]\n",
    "\n",
    "[i for i,j in enumerate(origLst) if j == 4]"
   ]
  },
  {
   "cell_type": "code",
   "execution_count": 15,
   "metadata": {},
   "outputs": [
    {
     "data": {
      "text/plain": [
       "[3]"
      ]
     },
     "execution_count": 15,
     "metadata": {},
     "output_type": "execute_result"
    }
   ],
   "source": [
    "# retrieve indices of all identical members from two lists\n",
    "\n",
    "ListOne = [1,2,3,4,5]\n",
    "ListTwo = [5,4,3,2,1]\n",
    "\n",
    "# [(j,k) for i,(j,k) in enumerate(zip(ListOne, ListTwo))]\n",
    "\n",
    "[j for i,(j,k) in enumerate(zip(ListOne, ListTwo)) if j == k]"
   ]
  },
  {
   "cell_type": "code",
   "execution_count": null,
   "metadata": {},
   "outputs": [],
   "source": [
    "origLst = [5, 1, 2, 54, 68, 1, 2, 66, ]"
   ]
  },
  {
   "cell_type": "code",
   "execution_count": 23,
   "metadata": {},
   "outputs": [
    {
     "name": "stdout",
     "output_type": "stream",
     "text": [
      "Halle\n",
      "Tom\n"
     ]
    }
   ],
   "source": [
    "details = dict()\n",
    "\n",
    "details.update( {'Tom': '1972/11/23'} )\n",
    "\n",
    "details.update( { 'Halle': [1990, 7, 1] } )\n",
    "\n",
    "for i in sorted( details.keys() ):\n",
    "    print(i)\n",
    "\n",
    "# print(details)"
   ]
  },
  {
   "cell_type": "code",
   "execution_count": 37,
   "metadata": {},
   "outputs": [
    {
     "name": "stdout",
     "output_type": "stream",
     "text": [
      "fooInstance is an instance of Foo? True \n",
      "\n",
      "fooInstance is an instance of (list, tuple)? False \n",
      "\n",
      "fooInstance is an instance of (list, tuple, Foo)? True \n",
      "\n",
      "5 is an instance of int? True\n"
     ]
    }
   ],
   "source": [
    "class Foo:\n",
    "  a = 5\n",
    "  \n",
    "fooInstance = Foo()\n",
    "\n",
    "# isinstance() function returns True if the specified object is of the specified type, otherwise False\n",
    "\n",
    "print(\"fooInstance is an instance of Foo?\", isinstance(fooInstance, Foo), \"\\n\")\n",
    "print(\"fooInstance is an instance of (list, tuple)?\", isinstance(fooInstance, (list, tuple)), \"\\n\")\n",
    "print(\"fooInstance is an instance of (list, tuple, Foo)?\", isinstance(fooInstance, (list, tuple, Foo)), \"\\n\")\n",
    "\n",
    "x = isinstance(5, int)\n",
    "\n",
    "print(\"5 is an instance of int?\", x)"
   ]
  },
  {
   "cell_type": "code",
   "execution_count": null,
   "metadata": {},
   "outputs": [],
   "source": [
    "#==========================================================================#\n",
    "#------------------------------------NUMPY---------------------------------#\n",
    "#==========================================================================#"
   ]
  },
  {
   "cell_type": "code",
   "execution_count": 99,
   "metadata": {
    "scrolled": true
   },
   "outputs": [
    {
     "name": "stdout",
     "output_type": "stream",
     "text": [
      "[[1 3 5 7]\n",
      " [2 4 6 8]\n",
      " [1 2 3 4]]\n"
     ]
    },
    {
     "data": {
      "text/plain": [
       "array([[1, 3, 5],\n",
       "       [7, 2, 4],\n",
       "       [6, 8, 1],\n",
       "       [2, 3, 4]])"
      ]
     },
     "execution_count": 99,
     "metadata": {},
     "output_type": "execute_result"
    }
   ],
   "source": [
    "import numpy as np\n",
    "\n",
    "a = np.array( [ [i for i in range(1,9,2)], [j for j in range(2,10,2)], [k for k in range(1,5,1)] ]  )\n",
    "\n",
    "print(a)\n",
    "\n",
    "a.shape # get shape. (number of row, number of colum)\n",
    "\n",
    "np.reshape(a, (4,3)) # reshapes to a desired number of rows and columns"
   ]
  },
  {
   "cell_type": "code",
   "execution_count": 104,
   "metadata": {},
   "outputs": [
    {
     "name": "stdout",
     "output_type": "stream",
     "text": [
      "[[ 1  3  5  7]\n",
      " [ 2  4  6  8]\n",
      " [ 1  2  3  4]\n",
      " [13 14 15 16]]\n"
     ]
    }
   ],
   "source": [
    "a = np.array( [ [i for i in range(1,9,2)], [j for j in range(2,10,2)], [k for k in range(1,5,1)] ]  )\n",
    "\n",
    "b = np.array( [i for i in range(13,17,1)] )\n",
    "\n",
    "c = np.vstack( (a,b) ) # stack a new row (b) into array a\n",
    "\n",
    "print(c)"
   ]
  },
  {
   "cell_type": "code",
   "execution_count": 110,
   "metadata": {},
   "outputs": [
    {
     "name": "stdout",
     "output_type": "stream",
     "text": [
      "[[ 1  5  7]\n",
      " [12 10 99]\n",
      " [ 3  1  3]]\n",
      "\n",
      "\n",
      "[[243 254  15]\n",
      " [  1   2   3]\n",
      " [  8   2   8]]\n"
     ]
    }
   ],
   "source": [
    "import numpy as np\n",
    "\n",
    "arr1 = [ [1,5,7], [12,10,99], [3,1,3] ]\n",
    "\n",
    "arr1UI8 = np.array(arr1, dtype=np.uint8) # uint8: unsign 8bit\n",
    "\n",
    "print(arr1UI8)\n",
    "\n",
    "print(\"\\n\")\n",
    "\n",
    "arr2 = [[-13, -2, 15], [1, 2, 3], [8, 2, 8]]\n",
    "\n",
    "arr2UI8 = np.array(arr2, dtype=np.uint8) # negative integers are returned from the end of 8bit(256)\n",
    "\n",
    "print(arr2UI8)"
   ]
  },
  {
   "cell_type": "code",
   "execution_count": 111,
   "metadata": {},
   "outputs": [
    {
     "name": "stdout",
     "output_type": "stream",
     "text": [
      "[('stat', '<U20'), ('code', '<u2')]\n"
     ]
    }
   ],
   "source": [
    "import numpy as np\n",
    "\n",
    "mytype = np.dtype( [('stat', np.unicode_, 20), ('code', np.uint16)] ) # dtype - get datatype object\n",
    "\n",
    "print(mytype)\n",
    "\n",
    "# station name of max. 20 digits and numeric station code"
   ]
  },
  {
   "cell_type": "code",
   "execution_count": 112,
   "metadata": {},
   "outputs": [
    {
     "name": "stdout",
     "output_type": "stream",
     "text": [
      "[[-5 -4 -3]\n",
      " [-2 -1  0]\n",
      " [ 1  2  3]\n",
      " [ 4  5  6]\n",
      " [ 7  8  9]]\n"
     ]
    }
   ],
   "source": [
    "e = np.array ( [[-5, -4, -3], [-2, -1, 0], [1, 2, 3], [4, 5, 6], [7, 8, 9]] )\n",
    "\n",
    "print(e)"
   ]
  },
  {
   "cell_type": "code",
   "execution_count": 113,
   "metadata": {},
   "outputs": [
    {
     "data": {
      "text/plain": [
       "array([[-12,   3,  22],\n",
       "       [ 13,  12, 102],\n",
       "       [ 11,   3,  11]])"
      ]
     },
     "execution_count": 113,
     "metadata": {},
     "output_type": "execute_result"
    }
   ],
   "source": [
    "import numpy as np\n",
    "\n",
    "arr1 = [ [1,5,7], [12,10,99], [3,1,3] ]\n",
    "\n",
    "arr2 = [[-13, -2, 15], [1, 2, 3], [8, 2, 8]]\n",
    "\n",
    "np.add(arr1, arr2) #add 2 arrays without looping"
   ]
  },
  {
   "cell_type": "code",
   "execution_count": 119,
   "metadata": {},
   "outputs": [
    {
     "name": "stdout",
     "output_type": "stream",
     "text": [
      "[[ True False  True]\n",
      " [ True False  True]\n",
      " [ True False  True]\n",
      " [ True False  True]\n",
      " [ True False  True]]\n"
     ]
    }
   ],
   "source": [
    "mask = np.array( 5 * [True, False, True] )\n",
    "\n",
    "print( np.reshape(mask, (5,3)) )"
   ]
  },
  {
   "cell_type": "code",
   "execution_count": 149,
   "metadata": {
    "scrolled": true
   },
   "outputs": [
    {
     "name": "stdout",
     "output_type": "stream",
     "text": [
      "[[ 1  2  3]\n",
      " [ 4  5  6]\n",
      " [ 7  8  9]\n",
      " [10 11 12]\n",
      " [13 14 15]] \n",
      "\n",
      "[1 2 3] \n",
      "\n",
      "[ 3  6  9 12 15] \n",
      "\n",
      "[[13 14 15]\n",
      " [10 11 12]\n",
      " [ 7  8  9]\n",
      " [ 4  5  6]\n",
      " [ 1  2  3]] \n",
      "\n",
      "[[ 1  2  3]\n",
      " [ 7  8  9]\n",
      " [13 14 15]] \n",
      "\n",
      "[[13 14 15]] \n",
      "\n"
     ]
    }
   ],
   "source": [
    "import numpy as np\n",
    "\n",
    "mask = np.array( [i for i in range(1, 16, 1)] )\n",
    "\n",
    "a = np.reshape(mask, (5,3))\n",
    "\n",
    "print(a, \"\\n\")\n",
    "print( a[0, :], \"\\n\" ) # starting first row\n",
    "print( a[: ,2], \"\\n\" ) # ending second column\n",
    "print( a[::-1], \"\\n\" ) # reverse row order\n",
    "print( a[::2], \"\\n\" ) # start from the second to last row"
   ]
  },
  {
   "cell_type": "code",
   "execution_count": 161,
   "metadata": {},
   "outputs": [
    {
     "data": {
      "text/plain": [
       "array([22, 28])"
      ]
     },
     "execution_count": 161,
     "metadata": {},
     "output_type": "execute_result"
    }
   ],
   "source": [
    "import numpy as np\n",
    "\n",
    "a = [1, 2, 3]\n",
    "b = [[1, 2], [3, 4], [5,6]]\n",
    "\n",
    "np.dot(a,b)"
   ]
  },
  {
   "cell_type": "code",
   "execution_count": 162,
   "metadata": {},
   "outputs": [
    {
     "data": {
      "text/plain": [
       "array([[ -6,   3,   0],\n",
       "       [-12,   9,  -2],\n",
       "       [-18,  15,  -4]])"
      ]
     },
     "execution_count": 162,
     "metadata": {},
     "output_type": "execute_result"
    }
   ],
   "source": [
    "import numpy as np\n",
    "\n",
    "a = [[1, 2, 3]]\n",
    "b = [[1, 2], [3, 4], [5,6]]\n",
    "\n",
    "np.cross(a,b) # a must have more columns than b or same columns"
   ]
  },
  {
   "cell_type": "code",
   "execution_count": 81,
   "metadata": {},
   "outputs": [
    {
     "name": "stdout",
     "output_type": "stream",
     "text": [
      "[[ 1  2  3 16]\n",
      " [ 4  5  6 17]\n",
      " [ 7  8  9 18]\n",
      " [10 11 12 19]\n",
      " [13 14 15 20]] \n",
      "\n",
      "mean of a is: 10.5 \n",
      "\n",
      "5.0 \n",
      "\n",
      "(5, 4) \n",
      "\n",
      "15 \n",
      "\n",
      "2 \n",
      "\n"
     ]
    }
   ],
   "source": [
    "import numpy as np\n",
    "\n",
    "c = np.array( [ [16, 17, 18, 19, 20] ] )\n",
    "\n",
    "a = np.array( [ [1,2,3], [4,5,6], [7,8,9], [10,11,12], [13,14,15] ] )\n",
    "\n",
    "a = np.hstack( (a,c.T) )\n",
    "\n",
    "print(a, \"\\n\")\n",
    "\n",
    "print(\"mean of a is:\", np.mean(a), \"\\n\")\n",
    "\n",
    "print(\"mean of a:\", np.mean( a[0:3, 0:3] ), \"\\n\")\n",
    "\n",
    "print(a.shape, \"\\n\")\n",
    "\n",
    "print(a.shape[0] + 10, \"\\n\")\n",
    "\n",
    "print(a.shape[1] - 2, \"\\n\")"
   ]
  },
  {
   "cell_type": "code",
   "execution_count": 72,
   "metadata": {},
   "outputs": [
    {
     "name": "stdout",
     "output_type": "stream",
     "text": [
      "[[2 3]\n",
      " [5 6]\n",
      " [8 9]] \n",
      "\n",
      "mean of a is: 6.5 \n",
      "\n"
     ]
    }
   ],
   "source": [
    "import numpy as np\n",
    "\n",
    "\n",
    "a = np.array( [ [1,2,3], [4,5,6], [7,8,9], [10,11,12] ] )\n",
    "\n",
    "\n",
    "print(a[:3, 1:], \"\\n\") # slicing\n",
    "\n",
    "print(\"mean of a is:\", np.mean(a), \"\\n\")"
   ]
  },
  {
   "cell_type": "code",
   "execution_count": 67,
   "metadata": {},
   "outputs": [
    {
     "name": "stdout",
     "output_type": "stream",
     "text": [
      "[[1 1 1 1]\n",
      " [1 1 1 1]\n",
      " [1 1 1 1]\n",
      " [1 1 1 1]\n",
      " [1 1 1 1]] \n",
      "\n",
      "[[ True  True  True  True]\n",
      " [ True  True  True  True]\n",
      " [ True  True  True  True]\n",
      " [ True  True  True  True]\n",
      " [ True  True  True  True]] \n",
      "\n"
     ]
    }
   ],
   "source": [
    "import numpy as np\n",
    "\n",
    "m = np.ones((5,4), dtype=np.int64)\n",
    "print(m, \"\\n\")\n",
    "\n",
    "n = np.ones((5,4), dtype=bool)\n",
    "print(n, \"\\n\")"
   ]
  },
  {
   "cell_type": "code",
   "execution_count": 1,
   "metadata": {},
   "outputs": [],
   "source": [
    "#========================================================#\n",
    "#================= HW 0 =================================#\n",
    "#========================================================#\n",
    "\n",
    "# Create random lists\n",
    "# Create two simple lists each consisting of 20 elements\n",
    "# and each to be filled with randomly distributed integer values between 0 and 9."
   ]
  },
  {
   "cell_type": "code",
   "execution_count": 31,
   "metadata": {},
   "outputs": [
    {
     "name": "stdout",
     "output_type": "stream",
     "text": [
      "[5, 8, 9, 1, 1, 6, 9, 4, 5, 4, 7, 7, 3, 3, 3, 7, 3, 7, 1, 9] \n",
      " [0, 4, 3, 3, 9, 8, 9, 8, 6, 1, 4, 8, 9, 1, 1, 7, 1, 8, 3, 4] \n",
      "\n",
      "20 \n",
      " 20 \n",
      " 1 \n",
      " 0 \n",
      " 9 \n",
      " 9 \n",
      "\n",
      "fused lists is: [5, 8, 9, 1, 1, 6, 9, 4, 5, 4, 7, 7, 3, 3, 3, 7, 3, 7, 1, 9, 0, 4, 3, 3, 9, 8, 9, 8, 6, 1, 4, 8, 9, 1, 1, 7, 1, 8, 3, 4] \n",
      "\n",
      "unique elements are [0, 1, 3, 4, 5, 6, 7, 8, 9] \n",
      "\n",
      "sorted are [0, 1, 1, 1, 1, 1, 1, 1, 3, 3, 3, 3, 3, 3, 3, 4, 4, 4, 4, 4, 5, 5, 6, 6, 7, 7, 7, 7, 7, 8, 8, 8, 8, 8, 9, 9, 9, 9, 9, 9] \n",
      "\n",
      "reversed are [4, 3, 8, 1, 7, 1, 1, 9, 8, 4, 1, 6, 8, 9, 8, 9, 3, 3, 4, 0, 9, 1, 7, 3, 7, 3, 3, 3, 7, 7, 4, 5, 4, 9, 6, 1, 1, 9, 8, 5] \n",
      "\n",
      "[0, 1, 1, 1, 1, 1, 1, 1, 8, 8, 8, 8, 8, 8, 8, 15, 15, 15, 15, 15, 20, 20, 22, 22, 24, 24, 24, 24, 24, 29, 29, 29, 29, 29, 34, 34, 34, 34, 34, 34] \n",
      "\n"
     ]
    }
   ],
   "source": [
    "import random\n",
    "\n",
    "a = [random.randrange(0, 10) for _ in range(0, 20)]\n",
    "b = [random.randrange(0, 10) for _ in range(0, 20)]\n",
    "print(a, \"\\n\", b, \"\\n\")\n",
    "\n",
    "print( len(a), \"\\n\", len(b), \"\\n\",  min(a), \"\\n\", min(b), \"\\n\",  max(a), \"\\n\", max(b), \"\\n\"  )\n",
    "\n",
    "c = a + b\n",
    "print(\"fused lists is:\", c, \"\\n\")\n",
    "\n",
    "d = set(c)\n",
    "\n",
    "print(\"unique elements are\", list(d), \"\\n\")\n",
    "\n",
    "e = sorted(c)\n",
    "\n",
    "print(\"sorted are\", e, \"\\n\")\n",
    "\n",
    "f = reversed(c)\n",
    "\n",
    "print(\"reversed are\", list(f), \"\\n\") # starts with the reversed of the second list and appends the reversed of the first\n",
    "\n",
    "rank = []\n",
    "\n",
    "for i in e:\n",
    "    rank.append(e.index(i))\n",
    "\n",
    "print(rank, \"\\n\")\n"
   ]
  },
  {
   "cell_type": "code",
   "execution_count": null,
   "metadata": {},
   "outputs": [],
   "source": [
    "import random\n",
    "\n",
    "# Derive some basic descriptors for each list"
   ]
  },
  {
   "cell_type": "code",
   "execution_count": 1,
   "metadata": {},
   "outputs": [],
   "source": [
    "#========================================================#\n",
    "#================= HW 1 =================================#\n",
    "#========================================================#\n",
    "\n",
    "# Create a random list\n",
    "# Create a nested list of 60 elements arranged in 10 sub-lists \n",
    "# of 6 entries each to be filled with randomly distributed integer values between 0 and 15."
   ]
  },
  {
   "cell_type": "code",
   "execution_count": 11,
   "metadata": {},
   "outputs": [
    {
     "name": "stdout",
     "output_type": "stream",
     "text": [
      "[[14, 14, 8, 9, 14, 14, 0, 1, 10, 10], [0, 11, 11, 11, 6, 8, 11, 0, 0, 1], [12, 13, 11, 13, 12, 0, 5, 11, 4, 9], [9, 6, 0, 6, 11, 11, 9, 8, 8, 6], [9, 14, 4, 10, 5, 12, 9, 4, 12, 14], [4, 9, 4, 6, 9, 2, 13, 13, 10, 12]]\n"
     ]
    }
   ],
   "source": [
    "import random\n",
    "\n",
    "\n",
    "a = [[random.randrange(0, 15) for _ in range(0, 10)] for _ in range(6)]\n",
    "\n",
    "print(a)"
   ]
  }
 ],
 "metadata": {
  "kernelspec": {
   "display_name": "Python 3",
   "language": "python",
   "name": "python3"
  },
  "language_info": {
   "codemirror_mode": {
    "name": "ipython",
    "version": 3
   },
   "file_extension": ".py",
   "mimetype": "text/x-python",
   "name": "python",
   "nbconvert_exporter": "python",
   "pygments_lexer": "ipython3",
   "version": "3.6.6"
  }
 },
 "nbformat": 4,
 "nbformat_minor": 2
}
